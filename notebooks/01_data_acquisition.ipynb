{
 "cells": [
  {
   "cell_type": "code",
   "execution_count": null,
   "id": "8621ee63",
   "metadata": {},
   "outputs": [],
   "source": [
    "import pandas as pd\n",
    "from pathlib import Path\n",
    "\n",
    "project_root = Path.cwd().parent\n",
    "data_path = project_root / \"data\" / \"processed\"\n",
    "de_price_file = data_path / \"DE_spot_prices.csv\"\n",
    "hu_price_file = data_path / \"HU_spot_prices.csv\"\n",
    "\n",
    "if not de_price_file.exists() or not hu_price_file.exists():\n",
    "    raise FileNotFoundError(\"Price files not found.\")\n",
    "else:\n",
    "    de_prices = pd.read_csv(de_price_file, index_col=0, parse_dates=True)\n",
    "    de_prices.columns = ['DE_Price']\n",
    "\n",
    "    hu_prices = pd.read_csv(hu_price_file, index_col=0, parse_dates=True)\n",
    "    hu_prices.columns = ['HU_Price']\n",
    "\n",
    "    de_prices.index = de_prices.index.tz_convert('UTC')\n",
    "    hu_prices.index = hu_prices.index.tz_convert('UTC')\n",
    "\n",
    "    merged_prices = de_prices.join(hu_prices, how='outer')\n",
    "    merged_prices['Price_Delta_HU_DE'] = merged_prices['HU_Price'] - merged_prices['DE_Price']\n",
    "\n",
    "    print(\"Data fetching and preprocessing complete.\")"
   ]
  }
 ],
 "metadata": {
  "kernelspec": {
   "display_name": "power-market-analysis",
   "language": "python",
   "name": "python3"
  },
  "language_info": {
   "name": "python",
   "version": "3.11.13"
  }
 },
 "nbformat": 4,
 "nbformat_minor": 5
}
