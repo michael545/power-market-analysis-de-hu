{
 "cells": [
  {
   "cell_type": "code",
   "execution_count": 3,
   "metadata": {},
   "outputs": [],
   "source": [
    "import os\n",
    "from dotenv import load_dotenv\n",
    "from entsoe import EntsoePandasClient\n",
    "import pandas as pd"
   ]
  },
  {
   "cell_type": "code",
   "execution_count": 17,
   "metadata": {},
   "outputs": [
    {
     "data": {
      "text/plain": [
       "True"
      ]
     },
     "execution_count": 17,
     "metadata": {},
     "output_type": "execute_result"
    }
   ],
   "source": [
    "load_dotenv()"
   ]
  },
  {
   "cell_type": "code",
   "execution_count": 18,
   "metadata": {},
   "outputs": [],
   "source": [
    "api_key = os.getenv(\"ENTSOE_API_KEY\")"
   ]
  },
  {
   "cell_type": "code",
   "execution_count": 19,
   "metadata": {},
   "outputs": [],
   "source": [
    "client = EntsoePandasClient(api_key=api_key)"
   ]
  },
  {
   "cell_type": "code",
   "execution_count": 20,
   "metadata": {},
   "outputs": [],
   "source": [
    "def get_entsoe_data(data_type: str, country_code: str, start_date: str, end_date: str):\n",
    "    start = pd.Timestamp(start_date, tz=\"UTC\")\n",
    "    end = pd.Timestamp(end_date, tz=\"UTC\")\n",
    "\n",
    "    if data_type == \"day_ahead_prices\":\n",
    "        return client.query_day_ahead_prices(country_code, start=start, end=end)\n",
    "    else:\n",
    "        raise ValueError(f\"Unknown data type: {data_type}\")"
   ]
  },
  {
   "cell_type": "code",
   "execution_count": 21,
   "metadata": {},
   "outputs": [],
   "source": [
    "start_date = \"2025-07-07\"\n",
    "end_date = \"2025-08-04\"\n",
    "de_prices = get_entsoe_data(\"day_ahead_prices\", \"DE_LU\", start_date, end_date)"
   ]
  },
  {
   "cell_type": "code",
   "execution_count": 27,
   "metadata": {},
   "outputs": [
    {
     "data": {
      "text/plain": [
       "2025-07-07 02:00:00+02:00    101.92\n",
       "2025-07-07 03:00:00+02:00     99.12\n",
       "2025-07-07 04:00:00+02:00    101.00\n",
       "2025-07-07 05:00:00+02:00    108.22\n",
       "2025-07-07 06:00:00+02:00    134.20\n",
       "Freq: 60min, dtype: float64"
      ]
     },
     "execution_count": 27,
     "metadata": {},
     "output_type": "execute_result"
    }
   ],
   "source": [
    "de_prices.tail()\n",
    "de_prices.head()"
   ]
  },
  {
   "cell_type": "code",
   "execution_count": 28,
   "metadata": {},
   "outputs": [
    {
     "name": "stdout",
     "output_type": "stream",
     "text": [
      "Hungary Day-Ahead Prices:\n"
     ]
    },
    {
     "ename": "NameError",
     "evalue": "name 'hu_prices' is not defined",
     "output_type": "error",
     "traceback": [
      "\u001b[31m---------------------------------------------------------------------------\u001b[39m",
      "\u001b[31mNameError\u001b[39m                                 Traceback (most recent call last)",
      "\u001b[36mCell\u001b[39m\u001b[36m \u001b[39m\u001b[32mIn[28]\u001b[39m\u001b[32m, line 2\u001b[39m\n\u001b[32m      1\u001b[39m \u001b[38;5;28mprint\u001b[39m(\u001b[33m\"\u001b[39m\u001b[33mHungary Day-Ahead Prices:\u001b[39m\u001b[33m\"\u001b[39m)\n\u001b[32m----> \u001b[39m\u001b[32m2\u001b[39m \u001b[38;5;28mprint\u001b[39m(\u001b[43mhu_prices\u001b[49m.head())\n",
      "\u001b[31mNameError\u001b[39m: name 'hu_prices' is not defined"
     ]
    }
   ],
   "source": [
    "print(\"Hungary Day-Ahead Prices:\")\n",
    "print(hu_prices.head())"
   ]
  }
 ],
 "metadata": {
  "kernelspec": {
   "display_name": "power-market-analysis",
   "language": "python",
   "name": "python3"
  },
  "language_info": {
   "codemirror_mode": {
    "name": "ipython",
    "version": 3
   },
   "file_extension": ".py",
   "mimetype": "text/x-python",
   "name": "python",
   "nbconvert_exporter": "python",
   "pygments_lexer": "ipython3",
   "version": "3.11.13"
  }
 },
 "nbformat": 4,
 "nbformat_minor": 4
}
