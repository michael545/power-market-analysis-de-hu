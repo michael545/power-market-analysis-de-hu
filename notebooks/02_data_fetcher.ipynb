{
 "cells": [
  {
   "cell_type": "code",
   "execution_count": 1,
   "metadata": {},
   "outputs": [],
   "source": [
    "import os\n",
    "from dotenv import load_dotenv\n",
    "from entsoe import EntsoePandasClient\n",
    "import pandas as pd"
   ]
  },
  {
   "cell_type": "code",
   "execution_count": 2,
   "metadata": {},
   "outputs": [
    {
     "data": {
      "text/plain": [
       "True"
      ]
     },
     "execution_count": 2,
     "metadata": {},
     "output_type": "execute_result"
    }
   ],
   "source": [
    "load_dotenv()"
   ]
  },
  {
   "cell_type": "code",
   "execution_count": 3,
   "metadata": {},
   "outputs": [],
   "source": [
    "api_key = os.getenv(\"ENTSOE_API_KEY\")"
   ]
  },
  {
   "cell_type": "code",
   "execution_count": 4,
   "metadata": {},
   "outputs": [],
   "source": [
    "client = EntsoePandasClient(api_key=api_key)"
   ]
  },
  {
   "cell_type": "code",
   "execution_count": 5,
   "metadata": {},
   "outputs": [],
   "source": [
    "def get_entsoe_data(data_type: str, country_code: str, start_date: str, end_date: str):\n",
    "    start = pd.Timestamp(start_date, tz=\"UTC\")\n",
    "    end = pd.Timestamp(end_date, tz=\"UTC\")\n",
    "\n",
    "    if data_type == \"day_ahead_prices\":\n",
    "        return client.query_day_ahead_prices(country_code, start=start, end=end)\n",
    "    else:\n",
    "        raise ValueError(f\"Unknown data type: {data_type}\")"
   ]
  },
  {
   "cell_type": "code",
   "execution_count": null,
   "metadata": {},
   "outputs": [],
   "source": [
    "start_date = \"2025-07-07\"\n",
    "end_date = \"2025-08-04\"\n",
    "de_prices = get_entsoe_data(\"day_ahead_prices\", \"DE_LU\", start_date, end_date)"
   ]
  },
  {
   "cell_type": "code",
   "execution_count": 8,
   "metadata": {},
   "outputs": [
    {
     "data": {
      "text/plain": [
       "2024-01-02 21:00:00+01:00    46.89\n",
       "2024-01-02 22:00:00+01:00    40.00\n",
       "2024-01-02 23:00:00+01:00     7.43\n",
       "2024-01-03 00:00:00+01:00    -0.08\n",
       "2024-01-03 01:00:00+01:00    -1.23\n",
       "Freq: 60min, dtype: float64"
      ]
     },
     "execution_count": 8,
     "metadata": {},
     "output_type": "execute_result"
    }
   ],
   "source": [
    "de_prices.tail()"
   ]
  },
  {
   "cell_type": "code",
   "execution_count": null,
   "metadata": {},
   "outputs": [],
   "source": [
    "print(\"Germany Day-Ahead Prices:\")\n",
    "print(de_prices.head())"
   ]
  },
  {
   "cell_type": "code",
   "execution_count": null,
   "metadata": {},
   "outputs": [],
   "source": [
    "print(\"Hungary Day-Ahead Prices:\")\n",
    "print(hu_prices.head())"
   ]
  }
 ],
 "metadata": {
  "kernelspec": {
   "display_name": "power-market-analysis",
   "language": "python",
   "name": "python3"
  },
  "language_info": {
   "codemirror_mode": {
    "name": "ipython",
    "version": 3
   },
   "file_extension": ".py",
   "mimetype": "text/x-python",
   "name": "python",
   "nbconvert_exporter": "python",
   "pygments_lexer": "ipython3",
   "version": "3.11.13"
  }
 },
 "nbformat": 4,
 "nbformat_minor": 4
}
